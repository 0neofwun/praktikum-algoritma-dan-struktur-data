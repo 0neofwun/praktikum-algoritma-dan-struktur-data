{
  "nbformat": 4,
  "nbformat_minor": 0,
  "metadata": {
    "colab": {
      "provenance": []
    },
    "kernelspec": {
      "name": "python3",
      "display_name": "Python 3"
    },
    "language_info": {
      "name": "python"
    }
  },
  "cells": [
    {
      "cell_type": "code",
      "execution_count": 16,
      "metadata": {
        "id": "p-Qp5QmqFwqK",
        "colab": {
          "base_uri": "https://localhost:8080/"
        },
        "outputId": "9b614e9a-a814-43d8-8b1d-dd2e2c2811f3"
      },
      "outputs": [
        {
          "output_type": "stream",
          "name": "stdout",
          "text": [
            "buah setelah ditambahkan : ['apel', 'mangga', 'jeruk', 'anggur', 'pisang', 'semangka']\n",
            "buah setelah disisipkan : ['apel', 'mangga', 'jeruk', 'durian', 'anggur', 'pisang', 'semangka']\n",
            "buah setelah mangga dihapus : ['apel', 'jeruk', 'durian', 'anggur', 'pisang', 'semangka']\n",
            "buah setelah pisang diubah : ['apel', 'jeruk', 'durian', 'anggur', 'nanas', 'semangka']\n",
            "3 buah pertama : ['apel', 'jeruk', 'durian']\n",
            "\n",
            "urutan list secara ascending : [12, 23, 34, 45, 56, 78, 89]\n",
            "urutan list secara descending : [89, 78, 56, 45, 34, 23, 12]\n"
          ]
        }
      ],
      "source": [
        "# Nama    : Muhammad Banyu Legowo\n",
        "# NIM     : 2505060071\n",
        "# Rombel  : 04\n",
        "\n",
        "# Tugas\n",
        "\n",
        "# Nomor 1\n",
        "\n",
        "buah = [\"apel\", \"mangga\", \"jeruk\", \"anggur\", \"pisang\"]\n",
        "\n",
        "# a. Tambahkan \"semangka\" di akhir list\n",
        "buah.append (\"semangka\")\n",
        "print (f\"buah setelah ditambahkan : {buah}\")\n",
        "\n",
        "# b. Sisipkan \"durian\" di antara \"jeruk\" dan \"anggur\"\n",
        "buah.insert (3,\"durian\")\n",
        "print (f\"buah setelah disisipkan : {buah}\")\n",
        "\n",
        "# c. Hapus \"mangga\" dari list\n",
        "buah.remove (\"mangga\")\n",
        "print (f\"buah setelah mangga dihapus : {buah}\")\n",
        "\n",
        "# d. Ubah \"pisang\" menjadi \"nanas\"\n",
        "buah [-2] = \"nanas\"\n",
        "print (f\"buah setelah pisang diubah : {buah}\")\n",
        "\n",
        "# e. Tampilkan 3 buah pertama\n",
        "print (f\"3 buah pertama : {buah[:3]}\")\n",
        "\n",
        "# Nomor 2\n",
        "\n",
        "angka = [45, 12, 78, 23, 56, 89, 34]\n",
        "\n",
        "# a. Urutkan list secara ascending\n",
        "angka.sort ()\n",
        "print (f\"\\nurutan list secara ascending : {angka}\")\n",
        "\n",
        "# b. urutkan list secara descending\n",
        "angka.reverse ()\n",
        "print (f\"urutan list secara descending : {angka}\")"
      ]
    }
  ]
}